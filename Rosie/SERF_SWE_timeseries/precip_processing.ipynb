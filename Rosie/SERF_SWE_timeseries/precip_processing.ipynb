{
 "cells": [
  {
   "cell_type": "code",
   "execution_count": 1,
   "metadata": {},
   "outputs": [],
   "source": [
    "import pandas as pd\n",
    "import pickle\n",
    "from netCDF4 import Dataset,num2date,date2num\n",
    "import numpy as np\n",
    "import matplotlib.pyplot as plt\n",
    "from datetime import timedelta\n",
    "from calendar import monthrange\n",
    "import datetime\n",
    "import matplotlib.dates as mdates\n",
    "import xarray as xr"
   ]
  },
  {
   "cell_type": "markdown",
   "metadata": {},
   "source": [
    "### Gauge-based measurements\n",
    "Daily precipitation measurements were submitted to an online repository from a location around 12 km\n",
    "away from the facility (49.86306°N, -97.2621613°E). Measurements were taken at 7am every morning in a\n",
    "standard 4 inch diameter rain gauge and uploaded to the Community Collaborative Rain, Hail and Snow\n",
    "Network (CoCoRaHS; station CAN-MB-206). To generate a continuous timeseries, the SWE accumulation was spread evenly out\n",
    "over the previous 24 hours.\n",
    "\n",
    "### SWE from ERA5 reanalysis\n",
    "Snowfall data was also taken from the ERA5 land reanalysis, which provides hourly data on a 0.1°×0.1°grid\n",
    "(which has a resolution of ∼9 km. Values represent the hourly average precipitation (mmhr-1) over the grid\n",
    "cell which is centered around 4 km away."
   ]
  },
  {
   "cell_type": "markdown",
   "metadata": {},
   "source": [
    "# Process Airport SWE Data and resample at 10 minute intervals"
   ]
  },
  {
   "cell_type": "code",
   "execution_count": 2,
   "metadata": {},
   "outputs": [
    {
     "data": {
      "text/html": [
       "<div>\n",
       "<style scoped>\n",
       "    .dataframe tbody tr th:only-of-type {\n",
       "        vertical-align: middle;\n",
       "    }\n",
       "\n",
       "    .dataframe tbody tr th {\n",
       "        vertical-align: top;\n",
       "    }\n",
       "\n",
       "    .dataframe thead th {\n",
       "        text-align: right;\n",
       "    }\n",
       "</style>\n",
       "<table border=\"1\" class=\"dataframe\">\n",
       "  <thead>\n",
       "    <tr style=\"text-align: right;\">\n",
       "      <th></th>\n",
       "      <th>G_SWE_mm</th>\n",
       "    </tr>\n",
       "    <tr>\n",
       "      <th>dt</th>\n",
       "      <th></th>\n",
       "    </tr>\n",
       "  </thead>\n",
       "  <tbody>\n",
       "    <tr>\n",
       "      <th>2020-01-15 13:00:00</th>\n",
       "      <td>0.006944</td>\n",
       "    </tr>\n",
       "    <tr>\n",
       "      <th>2020-01-15 13:10:00</th>\n",
       "      <td>0.010417</td>\n",
       "    </tr>\n",
       "    <tr>\n",
       "      <th>2020-01-15 13:20:00</th>\n",
       "      <td>0.010417</td>\n",
       "    </tr>\n",
       "    <tr>\n",
       "      <th>2020-01-15 13:30:00</th>\n",
       "      <td>0.010417</td>\n",
       "    </tr>\n",
       "    <tr>\n",
       "      <th>2020-01-15 13:40:00</th>\n",
       "      <td>0.010417</td>\n",
       "    </tr>\n",
       "    <tr>\n",
       "      <th>...</th>\n",
       "      <td>...</td>\n",
       "    </tr>\n",
       "    <tr>\n",
       "      <th>2020-02-15 12:20:00</th>\n",
       "      <td>0.000000</td>\n",
       "    </tr>\n",
       "    <tr>\n",
       "      <th>2020-02-15 12:30:00</th>\n",
       "      <td>0.000000</td>\n",
       "    </tr>\n",
       "    <tr>\n",
       "      <th>2020-02-15 12:40:00</th>\n",
       "      <td>0.000000</td>\n",
       "    </tr>\n",
       "    <tr>\n",
       "      <th>2020-02-15 12:50:00</th>\n",
       "      <td>0.000000</td>\n",
       "    </tr>\n",
       "    <tr>\n",
       "      <th>2020-02-15 13:00:00</th>\n",
       "      <td>0.000000</td>\n",
       "    </tr>\n",
       "  </tbody>\n",
       "</table>\n",
       "<p>4465 rows × 1 columns</p>\n",
       "</div>"
      ],
      "text/plain": [
       "                     G_SWE_mm\n",
       "dt                           \n",
       "2020-01-15 13:00:00  0.006944\n",
       "2020-01-15 13:10:00  0.010417\n",
       "2020-01-15 13:20:00  0.010417\n",
       "2020-01-15 13:30:00  0.010417\n",
       "2020-01-15 13:40:00  0.010417\n",
       "...                       ...\n",
       "2020-02-15 12:20:00  0.000000\n",
       "2020-02-15 12:30:00  0.000000\n",
       "2020-02-15 12:40:00  0.000000\n",
       "2020-02-15 12:50:00  0.000000\n",
       "2020-02-15 13:00:00  0.000000\n",
       "\n",
       "[4465 rows x 1 columns]"
      ]
     },
     "execution_count": 2,
     "metadata": {},
     "output_type": "execute_result"
    }
   ],
   "source": [
    "# https://www.cocorahs.org/ViewData/StationPrecipSummary.aspx\n",
    "# CAN-MB-206\n",
    "\n",
    "# I've just copied this list in from the website\n",
    "\n",
    "SWE_mm = [1,1.5,\"NA\",8.1,1.8,0.2,\"NA\",\"NA\",\"NA\",\"T\",\"T\",\"NA\",0.5,1,\"T\",0.2,\"T\",\n",
    "          \"NA\",1.5,\"T\",\"NA\",\"NA\",1,\"NA\",\"T\",\"T\",\"T\",0.5,0.8,\"NA\",\"NA\",\"NA\"]\n",
    "\n",
    "# Hour = 7 because the gauge is checked at 7am, and +6 to go to UTC from Winnipeg in February\n",
    "\n",
    "start_airport_date = datetime.datetime(year=2020, # Start date of the data I copied\n",
    "                                       month=1,\n",
    "                                       day=15,\n",
    "                                       hour=7+6) \n",
    "\n",
    "airport_dates = [start_airport_date + timedelta(days=x) for x in range(len(SWE_mm))] # Makes the time axis\n",
    "\n",
    "###########################################################\n",
    "\n",
    "def clean_SWE_timeseries(SWE_mm):\n",
    "\n",
    "    \"\"\"A function that cleans the list at the top and returns a list of float datatypes.\n",
    "    \n",
    "    NA and T both mapped to 0\"\"\"\n",
    "\n",
    "    SWE_mm_clean = []\n",
    "    for i in SWE_mm:\n",
    "        if isinstance(i, (float,int)):\n",
    "            SWE_mm_clean.append(i)\n",
    "        elif i in ['NA','T']:\n",
    "            SWE_mm_clean.append(0)\n",
    "        else:\n",
    "            raise\n",
    "\n",
    "    return(SWE_mm_clean)\n",
    "\n",
    "SWE_mm_clean = clean_SWE_timeseries(SWE_mm)\n",
    "\n",
    "############################################################\n",
    "        \n",
    "gauge_df = pd.DataFrame({'dt_':airport_dates,\n",
    "                           'G_SWE_mm':SWE_mm_clean})\n",
    "\n",
    "gauge_df['dt'] = pd.to_datetime(gauge_df['dt_'])\n",
    "\n",
    "gauge_df.drop(columns='dt_',inplace=True)\n",
    "\n",
    "gauge_df.set_index('dt',inplace=True)\n",
    "\n",
    "gauge_df = gauge_df.resample('10min').bfill()\n",
    "\n",
    "gauge_df['G_SWE_mm'] = gauge_df['G_SWE_mm']/144\n",
    "\n",
    "gauge_df"
   ]
  },
  {
   "cell_type": "markdown",
   "metadata": {},
   "source": [
    "# Quick plot of the data to check it's okay"
   ]
  },
  {
   "cell_type": "code",
   "execution_count": 3,
   "metadata": {},
   "outputs": [
    {
     "data": {
      "image/png": "[encoded data removed]",
      "text/plain": [
       "<Figure size 720x288 with 2 Axes>"
      ]
     },
     "metadata": {
      "needs_background": "light"
     },
     "output_type": "display_data"
    }
   ],
   "source": [
    "fig, (ax1, ax2) = plt.subplots(nrows=1,ncols=2, figsize=(10,4))\n",
    "\n",
    "date_form = mdates.DateFormatter(\"%m-%d\")\n",
    "\n",
    "ax1.plot(gauge_df.index, gauge_df['G_SWE_mm'])\n",
    "ax1.tick_params('x',rotation=90)\n",
    "ax1.set_ylabel('SWE (mm)')\n",
    "ax1.xaxis.set_major_formatter(date_form)\n",
    "\n",
    "ax2.set_ylabel('Cumulative SWE (mm)')\n",
    "ax2.plot(gauge_df.index, np.cumsum(gauge_df['G_SWE_mm']))\n",
    "ax2.tick_params('x',rotation=90)\n",
    "ax2.xaxis.set_major_formatter(date_form)\n"
   ]
  },
  {
   "cell_type": "markdown",
   "metadata": {},
   "source": [
    "# Process ERA5 Reanalysis Data"
   ]
  },
  {
   "cell_type": "code",
   "execution_count": 4,
   "metadata": {},
   "outputs": [
    {
     "name": "stdout",
     "output_type": "stream",
     "text": [
      "<class 'netCDF4._netCDF4.Dataset'>\n",
      "root group (NETCDF3_64BIT_OFFSET data model, file format NETCDF3):\n",
      "    Conventions: CF-1.6\n",
      "    history: 2020-07-16 19:46:01 GMT by grib_to_netcdf-2.16.0: /opt/ecmwf/eccodes/bin/grib_to_netcdf -S param -o /cache/data3/adaptor.mars.internal-1594928291.314253-18120-33-abe50599-3ffc-4ce1-8984-9c754edda3fb.nc /cache/tmp/abe50599-3ffc-4ce1-8984-9c754edda3fb-adaptor.mars.internal-1594928291.314831-18120-10-tmp.grib\n",
      "    dimensions(sizes): longitude(2), latitude(1), time(1440)\n",
      "    variables(dimensions): float32 \u001b[4mlongitude\u001b[0m(longitude), float32 \u001b[4mlatitude\u001b[0m(latitude), int32 \u001b[4mtime\u001b[0m(time), int16 \u001b[4msf\u001b[0m(time,latitude,longitude), int16 \u001b[4mtp\u001b[0m(time,latitude,longitude)\n",
      "    groups: \n",
      "\n",
      "\n",
      "49.89\n",
      "-97.2\n"
     ]
    },
    {
     "name": "stderr",
     "output_type": "stream",
     "text": [
      "/home/robbie/anaconda3/lib/python3.7/site-packages/ipykernel_launcher.py:2: DeprecationWarning: tostring() is deprecated. Use tobytes() instead.\n",
      "  \n"
     ]
    }
   ],
   "source": [
    "precip_data = Dataset('raw_ERA5_SERF.nc')\n",
    "print(precip_data)\n",
    "\n",
    "days_in_feb, days_in_jan = monthrange(2020, 2)[1], monthrange(2020, 1)[1]\n",
    "\n",
    "hours_in_jan = days_in_jan * 24\n",
    "hours_in_feb = days_in_feb * 24\n",
    "\n",
    "hours_in_data = hours_in_jan + hours_in_feb\n",
    "\n",
    "# https://apps.ecmwf.int/codes/grib/param-db/?id=228\n",
    "# https://apps.ecmwf.int/codes/grib/param-db?id=144\n",
    "print()\n",
    "print(precip_data['latitude'][0])\n",
    "print(precip_data['longitude'][0])\n"
   ]
  },
  {
   "cell_type": "markdown",
   "metadata": {},
   "source": [
    "## ERA5 Land Reanalysis are publicly available in the style-from-hell. \n",
    "\n",
    "## Essentially it's cumulative precipitation at hourly intervals over the 'forecast period', which is 24 hours every day. \n",
    "\n",
    "## So you've got to take the difference in the precipitation value every hour to get the precipitation rate for the previous hour, apart from the 24->0 break, where you don't take the diff, just the actual amount."
   ]
  },
  {
   "cell_type": "code",
   "execution_count": 5,
   "metadata": {},
   "outputs": [],
   "source": [
    "total_precip = np.array(precip_data['tp'])[:,0,1]*1000 # total precipitation in mm\n",
    "snowfall = np.array(precip_data['sf'][:,0,1])*1000\n",
    "\n",
    "hourly_snowfall = [snowfall[0]]\n",
    "\n",
    "for i in range(len(snowfall)-1):\n",
    "\n",
    "    diff = snowfall[i+1] - snowfall[i]\n",
    "    if i%24 == 0:\n",
    "        diff = snowfall[i+1]\n",
    "\n",
    "    hourly_snowfall.append(diff)"
   ]
  },
  {
   "cell_type": "code",
   "execution_count": 6,
   "metadata": {},
   "outputs": [
    {
     "name": "stdout",
     "output_type": "stream",
     "text": [
      "                     E5_SWE_mm\n",
      "dt                            \n",
      "2020-01-15 00:00:00   0.000360\n",
      "2020-01-15 00:10:00   0.000336\n",
      "2020-01-15 00:20:00   0.000336\n",
      "2020-01-15 00:30:00   0.000336\n",
      "2020-01-15 00:40:00   0.000336\n"
     ]
    }
   ],
   "source": [
    "start_datetime = datetime.datetime(year=2020,month=1,day=1,hour=0)\n",
    "\n",
    "datetimes = [start_datetime + timedelta(hours=x) for x in range(1440)]\n",
    "\n",
    "ERA5_df = pd.DataFrame({'dt':datetimes,\n",
    "                          'E5_SWE_mm':hourly_snowfall})\n",
    "\n",
    "ERA5_df.set_index('dt',inplace=True)\n",
    "\n",
    "ERA5_df = ERA5_df.loc['2020-1-15':'2020-2-15']\n",
    "\n",
    "ERA5_df_ten_min = ERA5_df.resample('10min').bfill()\n",
    "ERA5_df_ten_min['E5_SWE_mm'] = ERA5_df_ten_min['E5_SWE_mm']/6\n",
    "\n",
    "print(ERA5_df_ten_min.head())\n",
    "\n"
   ]
  },
  {
   "cell_type": "code",
   "execution_count": 9,
   "metadata": {},
   "outputs": [
    {
     "data": {
      "image/png": "[encoded data removed]",
      "text/plain": [
       "<Figure size 720x360 with 2 Axes>"
      ]
     },
     "metadata": {
      "needs_background": "light"
     },
     "output_type": "display_data"
    }
   ],
   "source": [
    "fig, (ax1, ax2) = plt.subplots(nrows=1,ncols=2, figsize=(10,5))\n",
    "\n",
    "date_form = mdates.DateFormatter(\"%m-%d\")\n",
    "\n",
    "ax1.plot(gauge_df.index, gauge_df['G_SWE_mm']*6,label='Gauge',color='darkblue')\n",
    "ax1.plot(ERA5_df_ten_min.index, ERA5_df_ten_min['E5_SWE_mm']*6,label=f'ERA5',color='crimson')\n",
    "ax1.tick_params('x',rotation=90)\n",
    "ax1.set_ylabel('SWE Rate (mm/hr)')\n",
    "ax1.xaxis.set_major_formatter(date_form)\n",
    "ax1.legend()\n",
    "\n",
    "\n",
    "ax2.set_ylabel('Cumulative SWE (mm)')\n",
    "ax2.plot(gauge_df.index, np.cumsum(gauge_df['G_SWE_mm']),label='Gauge',color='darkblue')\n",
    "ax2.plot(ERA5_df_ten_min.index, np.cumsum(ERA5_df_ten_min['E5_SWE_mm']),label=f'ERA5',color='crimson')\n",
    "ax2.tick_params('x',rotation=90)\n",
    "ax2.xaxis.set_major_formatter(date_form)\n",
    "\n",
    "plt.savefig('SWE_forcing.jpg',dpi=400,bbox_inches='tight')"
   ]
  },
  {
   "cell_type": "markdown",
   "metadata": {},
   "source": [
    "# Pickle a combined dataframe for Python user's convenience"
   ]
  },
  {
   "cell_type": "code",
   "execution_count": 10,
   "metadata": {},
   "outputs": [],
   "source": [
    "# Merge dataframes\n",
    "\n",
    "SWE_forcing = pd.concat([ERA5_df_ten_min, gauge_df], axis=1)\n",
    "\n",
    "with open('SWE_forcing.p', 'wb') as f:\n",
    "    pickle.dump(SWE_forcing, f)"
   ]
  },
  {
   "cell_type": "code",
   "execution_count": 11,
   "metadata": {},
   "outputs": [
    {
     "data": {
      "text/html": [
       "<div>\n",
       "<style scoped>\n",
       "    .dataframe tbody tr th:only-of-type {\n",
       "        vertical-align: middle;\n",
       "    }\n",
       "\n",
       "    .dataframe tbody tr th {\n",
       "        vertical-align: top;\n",
       "    }\n",
       "\n",
       "    .dataframe thead th {\n",
       "        text-align: right;\n",
       "    }\n",
       "</style>\n",
       "<table border=\"1\" class=\"dataframe\">\n",
       "  <thead>\n",
       "    <tr style=\"text-align: right;\">\n",
       "      <th></th>\n",
       "      <th>E5_SWE_mm</th>\n",
       "      <th>G_SWE_mm</th>\n",
       "    </tr>\n",
       "    <tr>\n",
       "      <th>dt</th>\n",
       "      <th></th>\n",
       "      <th></th>\n",
       "    </tr>\n",
       "  </thead>\n",
       "  <tbody>\n",
       "    <tr>\n",
       "      <th>2020-01-15 00:00:00</th>\n",
       "      <td>0.000360</td>\n",
       "      <td>NaN</td>\n",
       "    </tr>\n",
       "    <tr>\n",
       "      <th>2020-01-15 00:10:00</th>\n",
       "      <td>0.000336</td>\n",
       "      <td>NaN</td>\n",
       "    </tr>\n",
       "    <tr>\n",
       "      <th>2020-01-15 00:20:00</th>\n",
       "      <td>0.000336</td>\n",
       "      <td>NaN</td>\n",
       "    </tr>\n",
       "    <tr>\n",
       "      <th>2020-01-15 00:30:00</th>\n",
       "      <td>0.000336</td>\n",
       "      <td>NaN</td>\n",
       "    </tr>\n",
       "    <tr>\n",
       "      <th>2020-01-15 00:40:00</th>\n",
       "      <td>0.000336</td>\n",
       "      <td>NaN</td>\n",
       "    </tr>\n",
       "  </tbody>\n",
       "</table>\n",
       "</div>"
      ],
      "text/plain": [
       "                     E5_SWE_mm  G_SWE_mm\n",
       "dt                                      \n",
       "2020-01-15 00:00:00   0.000360       NaN\n",
       "2020-01-15 00:10:00   0.000336       NaN\n",
       "2020-01-15 00:20:00   0.000336       NaN\n",
       "2020-01-15 00:30:00   0.000336       NaN\n",
       "2020-01-15 00:40:00   0.000336       NaN"
      ]
     },
     "execution_count": 11,
     "metadata": {},
     "output_type": "execute_result"
    }
   ],
   "source": [
    "# Load the file back in to check it worked\n",
    "\n",
    "with open('SWE_forcing.p', 'rb') as f:\n",
    "    SWE_forcing = pickle.load(f)\n",
    "    \n",
    "SWE_forcing.head() # Nans in the gauge head nothing to worry about!"
   ]
  },
  {
   "cell_type": "markdown",
   "metadata": {},
   "source": [
    "# Output to a netcdf file for a metadata & language-independent data set"
   ]
  },
  {
   "cell_type": "code",
   "execution_count": 85,
   "metadata": {},
   "outputs": [],
   "source": [
    "# Make netcdf\n",
    "\n",
    "# You can't save python objects like datetimes in netcdf, so convert to Unix time\n",
    "\n",
    "coords = {'time': (['t'], date2num(SWE_forcing.index.to_pydatetime(), \"seconds since 1970-01-01T00:00:00\"))}\n",
    "\n",
    "variable = {'Gauge SWE (mm)': (['t'], SWE_forcing['G_SWE_mm']),\n",
    "            'ERA5 SWE (mm)': (['t'], SWE_forcing['E5_SWE_mm'])}\n",
    "\n",
    "\n",
    "ds = xr.Dataset(data_vars= variable,\n",
    "                coords=coords)\n",
    "\n",
    "ds.attrs['Author'] = 'Robbie Mallett CPOM UCL'\n",
    "ds.attrs['Contact Email'] = 'robbie.mallett.17@ucl.ac.uk'\n",
    "ds.attrs['Time information'] = 'Time axis in seconds since 1970-01-01T00:00:00 (Unix Time).'\n",
    "ds.attrs['SWE information'] = \"\"\"\n",
    "SWE measured in mm fallen over the ten minute timestep. Data period 15th Jan 2020 to 15th Feb.\"\"\"\n",
    "ds.attrs['Gauge information'] = \"\"\"\n",
    "Daily precipitation measurements were submitted to an online repository from a location around 12 km\n",
    "away from the facility (49.86306°N, -97.2621613°E). Measurements were taken at 7am every morning in a\n",
    "standard 4 inch diameter rain gauge and uploaded to the Community Collaborative Rain, Hail and Snow\n",
    "Network (CoCoRaHS; station CAN-MB-206). To generate a continuous timeseries, the SWE accumulation was spread evenly out\n",
    "over the previous 24 hours.\"\"\"\n",
    "ds.attrs['ERA5 information'] = \"\"\"\n",
    "Snowfall data was also taken from the ERA5 land reanalysis, which provides hourly data on a 0.1°×0.1°grid\n",
    "(which has a resolution of ∼9 km. Values represent the hourly average precipitation (mmhr-1) over the grid\n",
    "cell which is centered around 4 km away.\"\"\"\n",
    "\n",
    "\n",
    "ds.to_netcdf(f'SWE.nc', 'w')"
   ]
  },
  {
   "cell_type": "markdown",
   "metadata": {},
   "source": [
    "# Test the netcdf to make sure it worked"
   ]
  },
  {
   "cell_type": "code",
   "execution_count": 12,
   "metadata": {},
   "outputs": [
    {
     "name": "stderr",
     "output_type": "stream",
     "text": [
      "/home/robbie/anaconda3/lib/python3.7/site-packages/ipykernel_launcher.py:5: DeprecationWarning: tostring() is deprecated. Use tobytes() instead.\n",
      "  \"\"\"\n"
     ]
    },
    {
     "name": "stdout",
     "output_type": "stream",
     "text": [
      "<class 'netCDF4._netCDF4.Dataset'>\n",
      "root group (NETCDF4 data model, file format HDF5):\n",
      "    Author: Robbie Mallett CPOM UCL\n",
      "    Contact Email: robbie.mallett.17@ucl.ac.uk\n",
      "    Time information: Time axis in seconds since 1970-01-01T00:00:00 (Unix Time).\n",
      "    SWE information: SWE measured in mm fallen over the ten minute timestep. Data period: 15th Jan 2020 to 15th Feb 2020.\n",
      "    Gauge information: \n",
      "Daily precipitation measurements were submitted to an online repository from a location around 12 km\n",
      "away from the facility (49.86306°N, -97.2621613°E). Measurements were taken at 7am every morning in a\n",
      "standard 4 inch diameter rain gauge and uploaded to the Community Collaborative Rain, Hail and Snow\n",
      "Network (CoCoRaHS; station CAN-MB-206). To generate a continuous timeseries, the SWE accumulation was spread evenly out\n",
      "over the previous 24 hours.\n",
      "    ERA5 information: \n",
      "Snowfall data was also taken from the ERA5 land reanalysis, which provides hourly data on a 0.1°×0.1°grid\n",
      "(which has a resolution of ∼9 km. Values represent the hourly average precipitation (mmhr-1) over the grid\n",
      "cell which is centered around 4 km away.\n",
      "    dimensions(sizes): t(4603)\n",
      "    variables(dimensions): float64 \u001b[4mGauge SWE (mm)\u001b[0m(t), float64 \u001b[4mERA5 SWE (mm)\u001b[0m(t), float64 \u001b[4mtime\u001b[0m(t)\n",
      "    groups: \n",
      "\n"
     ]
    },
    {
     "data": {
      "image/png": "[encoded data removed]",
      "text/plain": [
       "<Figure size 432x288 with 1 Axes>"
      ]
     },
     "metadata": {
      "needs_background": "light"
     },
     "output_type": "display_data"
    }
   ],
   "source": [
    "# read\n",
    "\n",
    "data = Dataset('SWE.nc')\n",
    "\n",
    "print(data)\n",
    "\n",
    "# plot\n",
    "\n",
    "G_SWE = data['Gauge SWE (mm)']\n",
    "E5_SWE = data['ERA5 SWE (mm)']\n",
    "time = data['time']\n",
    "\n",
    "\n",
    "datetimes = num2date(time, \"seconds since 1970-01-01T00:00:00\", \n",
    "                     only_use_cftime_datetimes=False,\n",
    "                     only_use_python_datetimes=True)\n",
    "\n",
    "plt.plot(datetimes, G_SWE)\n",
    "plt.plot(datetimes, E5_SWE)\n",
    "plt.tick_params('x',rotation=90)\n",
    "plt.show()"
   ]
  },
  {
   "cell_type": "code",
   "execution_count": null,
   "metadata": {},
   "outputs": [],
   "source": []
  }
 ],
 "metadata": {
  "kernelspec": {
   "display_name": "Python 3",
   "language": "python",
   "name": "python3"
  },
  "language_info": {
   "codemirror_mode": {
    "name": "ipython",
    "version": 3
   },
   "file_extension": ".py",
   "mimetype": "text/x-python",
   "name": "python",
   "nbconvert_exporter": "python",
   "pygments_lexer": "ipython3",
   "version": "3.7.9"
  }
 },
 "nbformat": 4,
 "nbformat_minor": 4
}
